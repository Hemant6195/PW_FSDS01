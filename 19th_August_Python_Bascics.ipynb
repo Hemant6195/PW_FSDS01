{
 "cells": [
  {
   "cell_type": "code",
   "execution_count": 3,
   "id": "8f2b0bb0-7805-4697-b9e9-d462727a98f7",
   "metadata": {
    "tags": []
   },
   "outputs": [
    {
     "name": "stdout",
     "output_type": "stream",
     "text": [
      "Swapped values of : a = 50  b = 25\n"
     ]
    }
   ],
   "source": [
    "\n",
    "#Python Code to swap values of two integers without using any temporary variable\n",
    "#Declaration of variable x & y\n",
    "a=25       #variable 'a' is assigned with an integer value of 25\n",
    "b=50       #variable 'b' is assigned with an integer value of 50\n",
    "\n",
    "a=a*b      #Value of variable 'a' changes to 25*50 \n",
    "b=a//b     #Value of variable 'b' changes to 25*50/50= 25\n",
    "a=a//b     #Value of variable 'a' changes to 25*50/25= 50\n",
    "\n",
    "print(\"Swapped values of : a =\", a, \" b =\", b)   #Printing swapped values of a and b\n"
   ]
  },
  {
   "cell_type": "code",
   "execution_count": 6,
   "id": "249ac5aa-7224-4622-a489-4a5f93618c92",
   "metadata": {
    "tags": []
   },
   "outputs": [
    {
     "name": "stdin",
     "output_type": "stream",
     "text": [
      "Length of Rectangle =  10\n",
      "Width of Rectangle =  20\n"
     ]
    },
    {
     "name": "stdout",
     "output_type": "stream",
     "text": [
      "Area of Rectangle is A =  200\n"
     ]
    }
   ],
   "source": [
    "#Python code to calculate area of a rectangle with user inputs for length and width\n",
    "#Declaration of variables L (length) & B (width)\n",
    "L=int(input('Enter Length of Rectangle = '))     # Taking user input for value of length L\n",
    "B=int(input('Enter Width of Rectangle = '))     # Taking user input for value of width B\n",
    "\n",
    "A = L*B  #Calculation of area of Rectangle\n",
    "print(\"Area of Rectangle is A = \", A)   #Printing area of rectangle\n",
    "\n"
   ]
  },
  {
   "cell_type": "code",
   "execution_count": 16,
   "id": "1aff4c58-56b4-48b8-87dc-e2ad7e39fcf3",
   "metadata": {
    "tags": []
   },
   "outputs": [
    {
     "name": "stdin",
     "output_type": "stream",
     "text": [
      "Enter the value of Temperature in Celsius, T = 23\n"
     ]
    },
    {
     "name": "stdout",
     "output_type": "stream",
     "text": [
      "The value of Temperatue T =  23.0 Celsius in Fahrenheit is =  73.4\n"
     ]
    }
   ],
   "source": [
    "#Python code to convert temperature from Celsius to Fahrenheit units\n",
    "#Declaration of variable T for temperature in Celsius\n",
    "T =float(input(\"Enter the value of Temperature in Celsius, T =\"))  #Taking user input for value of temperature in Celsius\n",
    "        \n",
    "T1=((32+1.8*T))   #Conversion formula of Celsius to Fahrenheit\n",
    "        \n",
    "print(\"The value of Temperatue T = \",T,\"Celsius in Fahrenheit is = \",T1)  #Printing value of temperature in Fahrenheit\n"
   ]
  },
  {
   "cell_type": "code",
   "execution_count": 2,
   "id": "cb944205-535c-4484-87af-2a4a01a9ca99",
   "metadata": {},
   "outputs": [
    {
     "name": "stdin",
     "output_type": "stream",
     "text": [
      "Enter the string Hi\n"
     ]
    },
    {
     "name": "stdout",
     "output_type": "stream",
     "text": [
      "Length of the string is = 2\n"
     ]
    }
   ],
   "source": [
    "#Code to take a string as input and printing its length as output\n",
    "s1 = str(input(\"Enter the string\"))       #Takig string input from user\n",
    "print(\"Length of the string is =\",len(s1))  #Displaying length of string as output using len function"
   ]
  },
  {
   "cell_type": "code",
   "execution_count": 8,
   "id": "6d2cea0e-7c05-4b17-83fd-2b2d2a5d2918",
   "metadata": {},
   "outputs": [
    {
     "name": "stdin",
     "output_type": "stream",
     "text": [
      "Enter a sentence:  Hi\n"
     ]
    },
    {
     "name": "stdout",
     "output_type": "stream",
     "text": [
      "The number of vowels in the sentence is 1\n"
     ]
    }
   ],
   "source": [
    "#Code to find number of vowels in a sentence\n",
    "\n",
    "S2 = input(\"Enter a sentence: \")  # Taking user input  \n",
    "vowel_count = 0                   # declaration of variable to count number of vowels\n",
    "for char in S2:\n",
    "    if char in \"aeiou\":\n",
    "      vowel_count += 1\n",
    " \n",
    "print(\"The number of vowels in the sentence is\", vowel_count)"
   ]
  },
  {
   "cell_type": "code",
   "execution_count": 15,
   "id": "89a4029f-559b-4d36-8094-b66f0326ab70",
   "metadata": {},
   "outputs": [
    {
     "data": {
      "text/plain": [
       "'slliks WP ta ecneics atad rof tnemngissa tsrif ym si sihT'"
      ]
     },
     "execution_count": 15,
     "metadata": {},
     "output_type": "execute_result"
    }
   ],
   "source": [
    "# code to print the string in reverse order\n",
    "String_1 = \"This is my first assignment for data science at PW skills\"   # string declaration\n",
    "String_1[-1::-1]      "
   ]
  },
  {
   "cell_type": "code",
   "execution_count": 16,
   "id": "89280288-389b-45c3-990d-18d43571437e",
   "metadata": {},
   "outputs": [
    {
     "name": "stdin",
     "output_type": "stream",
     "text": [
      "Enter the string abba\n"
     ]
    },
    {
     "name": "stdout",
     "output_type": "stream",
     "text": [
      "string is palindrome\n"
     ]
    }
   ],
   "source": [
    "# code to check whether a string is palindrome or not\n",
    "string_2= str(input(\"Enter the string\"))   # for string Taking user input  \n",
    "rev_string = string_2[::-1]               # Assigning a variable to reversed string\n",
    "if string_2 == rev_string :               #condition to check whether string is  palindrome or not\n",
    " print(\"string is palindrome\")\n",
    "else:\n",
    "    print(\"string is not palindrome\")"
   ]
  },
  {
   "cell_type": "code",
   "execution_count": null,
   "id": "2c08a93c-7afd-4752-8a6e-78ed5ca2e397",
   "metadata": {},
   "outputs": [
    {
     "name": "stdin",
     "output_type": "stream",
     "text": [
      "Enter string Hi Hemant Kumar\n"
     ]
    },
    {
     "name": "stdout",
     "output_type": "stream",
     "text": [
      "HiHemantKumar\n"
     ]
    }
   ],
   "source": [
    "# code to print a string after removing spaces\n",
    "string_3 = str(input(\"Enter string\"))\n",
    "string_4 = string_3.replace(\" \",\"\")\n",
    "print(string_4)"
   ]
  }
 ],
 "metadata": {
  "kernelspec": {
   "display_name": "Python 3 (ipykernel)",
   "language": "python",
   "name": "python3"
  },
  "language_info": {
   "codemirror_mode": {
    "name": "ipython",
    "version": 3
   },
   "file_extension": ".py",
   "mimetype": "text/x-python",
   "name": "python",
   "nbconvert_exporter": "python",
   "pygments_lexer": "ipython3",
   "version": "3.10.8"
  }
 },
 "nbformat": 4,
 "nbformat_minor": 5
}
